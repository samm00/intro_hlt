{
 "cells": [
  {
   "cell_type": "code",
   "execution_count": 32,
   "metadata": {},
   "outputs": [],
   "source": [
    "import pandas as pd\n",
    "import re"
   ]
  },
  {
   "cell_type": "code",
   "execution_count": 33,
   "metadata": {},
   "outputs": [
    {
     "name": "stdout",
     "output_type": "stream",
     "text": [
      "<class 'pandas.core.frame.DataFrame'>\n",
      "Int64Index: 310 entries, 0 to 323\n",
      "Data columns (total 2 columns):\n",
      " #   Column       Non-Null Count  Dtype \n",
      "---  ------       --------------  ----- \n",
      " 0   Unnamed: 0   310 non-null    object\n",
      " 1   JLMelenchon  310 non-null    object\n",
      "dtypes: object(2)\n",
      "memory usage: 7.3+ KB\n"
     ]
    }
   ],
   "source": [
    "# Upload the .tsv\n",
    "FILEPATH = 'train.tsv'\n",
    "training_df = pd.read_csv(FILEPATH, sep='\\t').dropna()\n",
    "\n",
    "training_df.sample(10)\n",
    "training_df.info()"
   ]
  },
  {
   "cell_type": "code",
   "execution_count": 34,
   "metadata": {},
   "outputs": [
    {
     "name": "stdout",
     "output_type": "stream",
     "text": [
      "SUBJECT: CBeaune\n",
      "ts | En cette journée mondiale du #DonDeSang  , rappelons que la majorité a mis fin à une inégalité \n",
      "SUBJECT: CZacharopoulou\n",
      "                           ·  21h            Excellente discussion avec S\n",
      "E   @IssoufouMhm  , ancien\n",
      "SUBJECT: franckriester\n",
      "                  @      ·  Jun 9            « Il y a besoin d’un pays attractif, où les investissem\n",
      "SUBJECT: JLMelenchon\n",
      "  Retweeted           L'insoumission      @L_insoumission    ·  1h  « Qu'avez-vous ressenti devant c\n",
      "SUBJECT: MinColonna\n",
      "                   @     ·  Jun 10              En #Touraine, avec les candidats de la majorité\n",
      " Mer\n"
     ]
    }
   ],
   "source": [
    "files = ['CBeaune', 'CZacharopoulou', 'franckriester', 'JLMelenchon', 'MinColonna']\n",
    "\n",
    "# For cleaning purposes\n",
    "dataset = {file: '' for file in files}\n",
    "\n",
    "for file in files:\n",
    "    with open(file + '.txt', 'r', encoding='utf-8') as src:\n",
    "        dataset[file] = src.read(-1)\n",
    "        print(\"SUBJECT:\", file)\n",
    "        print(dataset[file][:100])"
   ]
  },
  {
   "cell_type": "code",
   "execution_count": 35,
   "metadata": {},
   "outputs": [
    {
     "data": {
      "text/html": [
       "<div>\n",
       "<style scoped>\n",
       "    .dataframe tbody tr th:only-of-type {\n",
       "        vertical-align: middle;\n",
       "    }\n",
       "\n",
       "    .dataframe tbody tr th {\n",
       "        vertical-align: top;\n",
       "    }\n",
       "\n",
       "    .dataframe thead th {\n",
       "        text-align: right;\n",
       "    }\n",
       "</style>\n",
       "<table border=\"1\" class=\"dataframe\">\n",
       "  <thead>\n",
       "    <tr style=\"text-align: right;\">\n",
       "      <th></th>\n",
       "      <th>tweet</th>\n",
       "      <th>author</th>\n",
       "      <th>label</th>\n",
       "    </tr>\n",
       "  </thead>\n",
       "  <tbody>\n",
       "    <tr>\n",
       "      <th>8</th>\n",
       "      <td>0:24 / 2:13 586 519 1,179 @ · Jun 9 #Egalité ...</td>\n",
       "      <td>CBeaune</td>\n",
       "      <td>1</td>\n",
       "    </tr>\n",
       "    <tr>\n",
       "      <th>22</th>\n",
       "      <td>0:01 / 0:31 24 72 Retweeted Élysée @Elysee · ...</td>\n",
       "      <td>CZacharopoulou</td>\n",
       "      <td>2</td>\n",
       "    </tr>\n",
       "    <tr>\n",
       "      <th>46</th>\n",
       "      <td>@ · Jun 10 En #Touraine, avec les candidats d...</td>\n",
       "      <td>MinColonna</td>\n",
       "      <td>5</td>\n",
       "    </tr>\n",
       "    <tr>\n",
       "      <th>11</th>\n",
       "      <td>0:00 / 0:56 305 364 692 Retweeted Olivia Greg...</td>\n",
       "      <td>CZacharopoulou</td>\n",
       "      <td>2</td>\n",
       "    </tr>\n",
       "    <tr>\n",
       "      <th>19</th>\n",
       "      <td>0:01 / 5:48 1,156 489 1,954 · May 10 #Afganis...</td>\n",
       "      <td>CZacharopoulou</td>\n",
       "      <td>2</td>\n",
       "    </tr>\n",
       "    <tr>\n",
       "      <th>29</th>\n",
       "      <td>0:01 / 1:22 74 442 643 @ · Jun 9 Au coeur des...</td>\n",
       "      <td>franckriester</td>\n",
       "      <td>3</td>\n",
       "    </tr>\n",
       "    <tr>\n",
       "      <th>37</th>\n",
       "      <td>0:01 / 2:13 712 713 1,824 @ · Jun 10 « On nou...</td>\n",
       "      <td>JLMelenchon</td>\n",
       "      <td>4</td>\n",
       "    </tr>\n",
       "    <tr>\n",
       "      <th>20</th>\n",
       "      <td>0:01 / 1:11 1:09 18\\n1K</td>\n",
       "      <td>CZacharopoulou</td>\n",
       "      <td>2</td>\n",
       "    </tr>\n",
       "    <tr>\n",
       "      <th>38</th>\n",
       "      <td>0:00 / 1:11 33 201 587 @ · Jun 10 « Ce dimanc...</td>\n",
       "      <td>JLMelenchon</td>\n",
       "      <td>4</td>\n",
       "    </tr>\n",
       "    <tr>\n",
       "      <th>12</th>\n",
       "      <td>0:00 / 0:45 540 361 673 Topics to follow Sign...</td>\n",
       "      <td>CZacharopoulou</td>\n",
       "      <td>2</td>\n",
       "    </tr>\n",
       "  </tbody>\n",
       "</table>\n",
       "</div>"
      ],
      "text/plain": [
       "                                                tweet          author label\n",
       "8    0:24 / 2:13 586 519 1,179 @ · Jun 9 #Egalité ...         CBeaune     1\n",
       "22   0:01 / 0:31 24 72 Retweeted Élysée @Elysee · ...  CZacharopoulou     2\n",
       "46   @ · Jun 10 En #Touraine, avec les candidats d...      MinColonna     5\n",
       "11   0:00 / 0:56 305 364 692 Retweeted Olivia Greg...  CZacharopoulou     2\n",
       "19   0:01 / 5:48 1,156 489 1,954 · May 10 #Afganis...  CZacharopoulou     2\n",
       "29   0:01 / 1:22 74 442 643 @ · Jun 9 Au coeur des...   franckriester     3\n",
       "37   0:01 / 2:13 712 713 1,824 @ · Jun 10 « On nou...     JLMelenchon     4\n",
       "20                           0:01 / 1:11 1:09 18\\n1K   CZacharopoulou     2\n",
       "38   0:00 / 1:11 33 201 587 @ · Jun 10 « Ce dimanc...     JLMelenchon     4\n",
       "12   0:00 / 0:45 540 361 673 Topics to follow Sign...  CZacharopoulou     2"
      ]
     },
     "execution_count": 35,
     "metadata": {},
     "output_type": "execute_result"
    }
   ],
   "source": [
    "# Cleaning data and making dataframe\n",
    "dataset_df = pd.DataFrame(columns=['tweet', 'author', 'label'])\n",
    "\n",
    "for (i, author) in enumerate(dataset.keys()):\n",
    "    dataset[author] = re.sub(r'\\s{2,}|\\|', ' ', dataset[author]).split('views')\n",
    "    for tweet in dataset[author]:\n",
    "        dataset_df = dataset_df.append({'tweet': tweet, 'author': author, 'label': i + 1}, ignore_index=True)\n",
    "\n",
    "dataset_df.sample(10) "
   ]
  },
  {
   "cell_type": "code",
   "execution_count": 40,
   "metadata": {},
   "outputs": [
    {
     "name": "stdout",
     "output_type": "stream",
     "text": [
      "[{'tweet': 'ts   En cette journée mondiale du #DonDeSang , rappelons que la majorité a mis fin à une inégalité en permettant aux homosexuels de donner leur sang, sans condition Un combat pour l’égalité que nous devons poursuivre ! Pour donner votre sang dondesang\\nefs\\nsante\\nfr Accueil Découvrez l’Établissement français du sang, l’opérateur civil unique de la transfusion sanguine en France qui assure une mission de service public essentielle : approvisionner les établissements de 6 39 113 @ · 7h Merci cher @BertrandDelanoe Bertrand Delanoë and Clara Chassaniol 137 378 940 @ · 9h #NUPES   « Il y a des choses qui m’inquiètent Quand C #Mécary parle de « battage médiatique » autour de l’affaire Sarah Halimi, il y a un problème au regard des principes républicains » \\u2066 @franceinter \\u2069 9,898 ', 'author': 'CBeaune', 'label': 1}, {'tweet': ' 0:01 / 0:23 40 149 343 @ · 9h #Législatives2022   « Toute la journée, on nous dit qu’on ne veut pas débattre de cette élection Moi j’en serais ravi, mais la candidate que j’affronte refuse le débat Je le regrette » \\u2066 @franceinter \\u2069 14\\n3K ', 'author': 'CBeaune', 'label': 1}, {'tweet': ' 0:00 / 0:09 20 126 321 Topics to follow Sign up to get Tweets about the Topics you follow in your Home timeline Carousel Washington DC Harvard University Economics Massachusetts Institute of Technology Yale University California Institute of Technology Stanford University Databases Paris Saint-Germain Machine learning Johns Hopkins University Zinedine Zidane Nobel Prize Space agencies & companies Ligue 1 Paul Pogba University of Oxford Kylian Mbappe Columbia University War in Ukraine Tottenham Hotspur Arsenal Georgetown University Sergio Ramos Wayne Rooney Reuters Data visualization Cambridge University FinTech Neymar @ · 9h #LFI   « Il y a des candidats, C #Mécary , D Obono, D Simonnet, qui ont fait venir à #Paris Jeremy Corbyn, antisémite et pro-Assad, qui ont insulté la police, qui ont expliqué que le président de la République était une immondice » Retweeted France Inter @franceinter · 10h @ : \"La planification écologique, contrairement à ce qu\\'on dit, Emmanuel Macron ne l\\'a pas découverte entre les deux tours S\\'il n\\'y avait pas la France, il n\\'y aurait pas un engagement européen pour être neutre en émissions de gaz en 2050\" #le79Inter #législatives2022 6,132 ', 'author': 'CBeaune', 'label': 1}, {'tweet': ' 0:01 / 1:02 47 56 122 @ · 11h Une majorité pour agir lejdd\\nfr Le ministre Clément Beaune : « Un député Insoumis est quelqu\\'un qui s\\'agite, pas qui agit » INTERVIEW - Le ministre Clément Beaune (Europe), qualifié pour le second tour des législatives à Paris mais en retard sur son adversaire de la Nupes, croit au « réflexe responsable » des Français 51 118 340 @ · 21h Plusieurs dizaines d’engagés, mobilisés ce soir de Saint-Paul à Oberkampf pour vous écouter et faire gagner notre projet ! Clara Chassaniol and 7 others 17 71 230 @ · 21h Merci chère Naïma Moghir pour ton soutien en vue d’un second tour décisif, autour de nos valeurs républicaines et européennes, contre le danger extrémiste La République En Marche - Paris #AvecVous and 8 others 45 107 449 @ · 23h #1jour1mesure   Les engagements qui me tiennent à cœur #19juin #legislatives2022 @ · Jun 13 La clarté républicaine Quote Tweet Michaël Delafosse @MDelafosse · Jun 10 Merci cher Fabien de cette prise de position républicaine Les fonctionnaires doivent être exemplaires comme nous leur devons respect et soutien Des policiers se font tirer dessus et agresser car ils incarnent l’autorité Jeter l’opprobre sur eux est indigne twitter\\ncom/bfmtv/status/1… 9 8 57 Retweeted LCI @LCI · Jun 13 Sur le programme de la @NUPES_2022_ \"C\\'est une vraie escroquerie, c\\'est une fuite en avant avec un programme qui fait exploser la dette Sur l\\'écologie, c\\'est une belle arnaque\" : @   @EliMartichoux 3,456 ', 'author': 'CBeaune', 'label': 1}, {'tweet': ' 0:00 / 1:26 21 71 158 Retweeted LCI @LCI · Jun 13 Sur les #legislatives2022 \"Chaque député @NUPES_2022_ sera une source d\\'agitation et de provocation Un député qui n\\'agit pas\" : @   @EliMartichoux 5,239 ', 'author': 'CBeaune', 'label': 1}, {'tweet': \" 0:01 / 1:56 44 114 246 @ · Jun 13 Juste une mise au point… #PasDupes Quote Tweet Olivier Blanchard @ojblanchard1 · Jun 11 J'ai peur que les économistes de NUPES aient mal compris la signification de multiplicateurs supérieurs a 1 Comme ils ont tendance à me citer, je me sens oblige de corriger Deux points tout simples (bien sûr, il y a beaucoup de complications potentielles que j’ignore ici): Show this thread 10 42 143 @ · Jun 12 Merci à toutes les électrices et tous les électeurs qui m’ont fait confiance dès aujourd’hui dans la 7ème circonscription de #Paris Le 19 juin, le choix est clair, pour l’Europe, une République fière et l’action pendant 5 ans, contre l’extrémisme, la démagogie et le Frexit En Marche #avecvous and 9 others 129 225 909 @ · Jun 12 #Législatives2022   « Je le dis aux Français qui seront amenés à faire un choix dimanche prochain : nous sommes les seuls à pouvoir avoir une majorité d’action » \\u2066\\u2066 @BFMTV Retweeted Avec Clément Beaune @Avec · Jun 6 Le vrai visage de Caroline #Mecary, ce sont ces amalgames douteux et inacceptables 23 223 472 @ · Jun 10 Mobilisés jusqu’à la dernière minute ! Merci cher @BrunoLeMaire de ton soutien, dimanche c’est aussi un choix entre la protection de notre économie et l’aventurisme anti-européen Avançons ! Clara Chassaniol and 7 others 78 132 451 Retweeted Antoine Gastinel @AGastinel · Jun 10 J’ai vu @ à l’œuvre, bataillant en Europe pour faire avancer nos priorités: écologie, protection sociale, souveraineté économique Je sais qu’il fera un brillant député pour notre circonscription, et je suis fier d’être à ses côtés dans cette bataille and 7 others 68 136 380 @ · Jun 10 À compter de dimanche 12 juin 0:34 9,500 \", 'author': 'CBeaune', 'label': 1}, {'tweet': ' 40 99 260 @ · Jun 10 Merci chère @Elisabeth_Borne Dès le 12 juin, un vote essentiel, pour Paris, la France et l’Europe Retweeted Pascal Canfin @pcanfin · Jun 10 Une analyse limpide des positions de \\u2066 @JLMelenchon \\u2069 favorables aux régimes autoritaires en Chine comme en Russie La soumission bien plus que l’insoumission… \\u2066 @Renaissance_UE \\u2069 lemonde\\nfr Législatives : quand la gauche lutte pour l’émancipation en France mais cautionne l’oppression Pour les électeurs de gauche qui épousent le programme social et écologique de Jean-Luc Mélenchon, il est douloureux de devoir composer avec ses positions sur le pouvoir russe, sur la Syrie ou ses 63 358 696 @ · Jun 10 Deux exemples parmi tant d’autres Ils ne sont d’accord sur rien… Ce n’est pas une union, c’est une OPA au profit de M #Mélenchon #PasDupes 219 514 1,072 Retweeted Pieyre-Alexandre Anglade @PA_Anglade · May 9 En 2017 lors de ses premiers pas dans l’hémicycle @JLMelenchon dénonçait la présence du drapeau européen Quelques mois plus tard les députés insoumis déposaient des amendements pour l’enlever Nous les avons empêchés et nous continuerons de faire\\n#NUPES 179\\n3K ', 'author': 'CBeaune', 'label': 1}, {'tweet': ' 0:01 / 0:38 From Bob le Centriste 148 558 1,437 Retweeted Renaissance @Renaissance_UE · Jun 9 Quelle semaine ! Accords sur : Les salaires minimums « Women on boards » Le chargeur unique Votes sur : Fin de la vente des voitures essence et diesel en 2035 Réciprocité dans l’accès aux marchés publics Droit d’initiative du PE 1/2 #PFUE2022 4 47 102 Show this thread Retweeted Olivier Véran @olivierveran · Jun 9 Bloquer les prix, c’est inégalitaire Augmenter le point d’indice des fonctionnaires, augmenter les pensions des retraités, verser un chèque d’urgence aux plus modestes, prolonger le bouclier tarifaire énergétique, c’est juste et nécessaire #France2022 46\\n8K ', 'author': 'CBeaune', 'label': 1}, {'tweet': ' 0:24 / 2:13 586 519 1,179 @ · Jun 9 #Egalité   À #Paris, en France et en Europe, cela restera mon grand combat, pour les droits et nos valeurs Retweeted Yohann Roszéwitch @YRoszewitch · Jun 9 Soutien aux associations #LGBT, féministes et antiracistes qui interviennent en milieu scolaire, une fois de plus vilipendées par Eric Zemmour, qui préfèrerait sûrement que l\\'on inculque aux élèves le #racisme, le #sexisme, l\\'#homophobie et la #transphobie Quote Tweet BFMTV @BFMTV · Jun 9 S\\'il est élu député, Éric Zemmour (@zemmoureric) proposera une loi pour l\\'interdiction des associations \"LGBT, féministes, antiracistes\" dans les écoles publiques 293K ', 'author': 'CBeaune', 'label': 1}, {'tweet': \" 0:01 / 3:28 3 20 62 Retweeted Pascal Canfin @pcanfin · Jun 9 Un pas de + pour construire une Europe puissance : le Parlement vient d'adopter définitivement une loi qui empêche que des entreprises non européennes accèdent à nos marchés publics si la réciproque n’est pas vraie Ce texte était bloqué depuis 10 ans @MariePierreV et #PFUE 25 273 759 Retweeted Pascal Canfin @pcanfin · Jun 8 Le parlement européen vient de voter la fin de la vente des voitures non zero emissions en 2035! 302 302 945 @ · Jun 9 Bon échange avec @yjadot ce matin au Parlement européen L’Europe, c’est aussi de pouvoir parler et avancer au-delà des différences Yannick Jadot and 2 others 301 330 1,137 Retweeted Delphine Horvilleur @rabbidelphineH · Jun 9 Elle aurait 92 ans aujourd’hui Je pense souvent à elle et à la puissance reconfortante de ses chansons, à ce deuil étrange qu’elle sait mettre en musique comme personne et qui sait ramener un peu les morts à la vie #barbara 40 377 1,989 @ · Jun 9 Échange passionnant et éclairant avec les @Les_shifters , sur une politique climatique qui nécessite d’investir dans toutes les énergies décarbonées et qui passe par l’Europe @theShiftPR0JECT \", 'author': 'CBeaune', 'label': 1}, {'tweet': ' · 21h Excellente discussion avec S\\nE @IssoufouMhm , ancien président du Niger, sur son engagement pour la #GrandeMurailleVerte, l’agriculture résiliente, l’#éducation des filles et la #sécurité Nous travaillons ensemble pour faire du #Sahel un espace de paix & de démocratie Emmanuel Macron and 9 others 10 32 121 Retweeted France Inter @franceinter · Jun 13 @GabrielAttal : \"On porte un projet profondément républicain, là où la Nupes et le Rassemblement national, à bien des égards, s\\'éloignent de la République\\n\" #le79Inter #législatives2022 43\\n9K ', 'author': 'CZacharopoulou', 'label': 2}, {'tweet': ' 0:00 / 0:56 305 364 692 Retweeted Olivia Gregoire @oliviagregoire · Jun 13 Pas une seule voix ne doit aller à l’extrême-droite, pas une seule voix ne doit aller au Rassemblement national La majorité présidentielle n’a jamais manqué de clarté sur ce sujet #RTLMatin @VenturaAlba @RTLFrance 56\\n5K ', 'author': 'CZacharopoulou', 'label': 2}, {'tweet': \" 0:00 / 0:45 540 361 673 Topics to follow Sign up to get Tweets about the Topics you follow in your Home timeline Carousel COVID-19: health experts COVID-19 Space agencies & companies Harvard University Trevor Noah Aviation Lionel Messi Nonprofits Stephen Colbert Washington DC Financial services Zinedine Zidane New York City COVID-19: government & public officials Business personalities Nobel Prize Machine learning Ultramarathon University of Oxford Saturday Night Live Vitalik Buterin Biotech & biomedical New York State Yale University California BBC Radio 1 Telecom UEFA Europa League Automobile Brands Tech industry Retweeted Amélie de Montchalin @AdeMontchalin · Jun 13 J’appelle les républicains de gauche et de droite à faire barrage dimanche à l’extrême-gauche, et à ceux qui s’y sont soumis pour des circonscriptions Son vrai projet c'est le désordre et l’anarchie, la remise en cause permanente de nos institutions et des médias @CNEWS 282\\n4K \", 'author': 'CZacharopoulou', 'label': 2}, {'tweet': \" 0:02 / 1:43 · Jun 10 Ravie d'être parmi nos amis portugais en ce #DiadePortugal, en présence du Ministre des finances Fernando Medina & de @CBeaune Grand merci à l'Ambassadeur Torres Pereira pour son accueil chaleureux Très beau #10deJunho à toutes & tous ! @antoniocostapm Finanças PT and 6 others 6 27 Retweeted Paris Peace Forum @ParisPeaceForum · Jun 8 “There is no place for wheat diplomacy Food security cannot be bargained for political purposes\\n” said ( @francediplo_EN ) at our Spring Meeting session dedicated to finding solutions to the looming global #foodcrisis http://bit\\nly/3x9LDie SOUND ON 912 \", 'author': 'CZacharopoulou', 'label': 2}, {'tweet': \" 0:01 / 1:45 1 15 32 · Jun 9 Plaisir de vous revoir chère @NOIweala à l’occasion du #OECDMinisterial à Paris et de continuer à travailler ensemble @wto France Diplomatie and 8 others 1 15 47 · Jun 9 Très heureuse de retrouver mon homologue néerlandaise et ancienne collègue au @Europarl_FR @LSchreinemacher ce matin à l’ouverture de #OECDMinisterial ! · Jun 2 Une Europe qui se renforce de jour en jour! Le peuple danois fait le choix historique de rejoindre la politique européenne de défense Unie, notre Europe est plus forte face aux menaces #Danemark Emmanuel Macron and 8 others 3 38 110 Retweeted Emmanuel Macron @EmmanuelMacron · Jun 1 Aujourd’hui, le peuple danois a voté pour rejoindre la politique européenne de défense C’est une excellente nouvelle pour notre Europe ! Nous sommes plus forts ensemble 1,666 1,578 10\\n6K Retweeted Bruno Le Maire @BrunoLeMaire · Jun 1 Cette période est difficile pour les Français Mais la France est le pays de l'UE où l'inflation est la plus faible Avec @EmmanuelMacron , nous l’avions anticipé : gel du prix du gaz, plafonnement à 4 % de la hausse des prix de l’électricité, remise de 18 cts/litre de carburant 1,363 1,083 2,206 · May 31 Face aux conséquences de la guerre en #Ukraine, le Président de l’ @_AfricanUnion @Macky_Sall appelle l’#UE & l’#Afrique à travailler ensemble pour assurer la sécurité alimentaire mondiale Le partenariat & la complémentarité entre nos continents seront déterminantes #FARM Quote Tweet Macky Sall @Macky_Sall · May 31 Au nom de l’Union Africaine, je remercie les Dirigeants Européens qui m’ont associé à la réunion du Conseil européen pour échanger sur les solutions à la crise alimentaire engendrée par la guerre en Ukraine, qui impacte l’Afrique\\nL’UA poursuivra sa concertation avec l’UE 2 32 69 Retweeted Emmanuel Macron @EmmanuelMacron · May 31 Sur la souveraineté énergétique, nous allons apporter des réponses sur la volatilité des prix du gaz et de l'électricité C'est en Européens, toujours, que nous pouvons lutter contre la montée des prix de nos énergies 225 253 1,218 Show this thread Retweeted Renaissance @Renaissance_UE · May 30 « Un journaliste français a été tué alors qu’il faisait son travail, c’est un drame Tirer sur un convoi d’évacuation, tuer un journaliste et faire des blessés comme l’ont fait les forces de la , c’est un crime » — @MinColonna Retweeted Guillaume Gouffier @G_GouffierCha · May 23 Merci pour sa présence à mes côtés hier à #Vincennes pour son 1er déplacement en tant que ministre Une visite symbolique forte Ensemble nous continuerons de porter les combats pour les droits des femmes et les droits humains #avecvous @leparisien_94 @EnMarche_94 Quote Tweet Le Parisien   94 @leparisien_94 · May 22 Législatives dans le Val-de-Marne : un premier déplacement «très symbolique» pour la ministre https://l\\nleparisien\\nfr/sayG 5 30 91 Retweeted Catherine Colonna @MinColonna · May 21 France government official Immense honneur d’entamer cette mission à la tête de @francediplo avec toutes celles & tous ceux qui travaillent chaque jour au service de la France de par le monde Avec @franckriester @CBeaune , engagés ensemble pour contribuer à apaiser les désordres du monde France Diplomatie 63 347 1,656 · May 19 #Vangelis, le grand compositeur grec vient de nous quitter Il a envoyé la musique dans l'espace avec les chariots de feu Bon voyage #Vangelis Καλό ταξίδι #Βαγγέλη μας 4,925 \", 'author': 'CZacharopoulou', 'label': 2}, {'tweet': ' 0:01 / 2:10 10 59 282 · May 18 Une restructuration de l’ordre mondial est en cours La #Russie & la #Chine veulent renverser le modèle occidental & ses valeurs\\nFace à la nouvelle intensité de ces combats idéologiques, la #France & l’#Europe doivent choisir leurs interdépendances @EmmanuelMacron Quote Tweet France Inter @franceinter · May 18 @Alain_Frachon : \"Lorsque Poutine va aux JO en février dernier, il rencontre Xi Jinping et ils signent un communiqué commun, qui est un communiqué de bataille idéologique : il ne faut plus que l\\'ordre mondial ne soit gouverné par l\\'Occident\\n\" #le79inter 27\\n8K ', 'author': 'CZacharopoulou', 'label': 2}, {'tweet': \" 0:01 / 1:12 7 40 89 Retweeted Prime Minister GR @PrimeministerGR · May 18 Félicitations à @Elisabeth_Borne pour sa nomination en tant que Première ministre de la République française ! Au plaisir de travailler avec elle pour approfondir davantage nos relations bilatérales stratégiques 28 131 935 · May 17 En commission @EP_Budgets @EP_Development sur la mise en oeuvre & financement de #COVAX, j'ai interrogé @JNkengasong directeur du @AfricaCDC sur la production de #vaccins #COVID19 en #Afrique & la structuration du marché africain des médicaments @Macky_Sall @_AfricanUnion · May 12 En ce jour de #GlobalCOVIDSummit, rappelons que le mécanisme #COVAX a livré près d'1\\n5 milliard de vaccins #COVID19 à 144 pays Depuis 1 an je suis engagée pour soutenir l'action de #COVAX @EmmanuelMacron @POTUS @vonderleyen @Macky_Sall @PaulKagame @NAkufoAddo @GaviSeth 2,220 \", 'author': 'CZacharopoulou', 'label': 2}, {'tweet': ' 0:00 / 2:20 5 26 70 · May 11 Heureuse d’être présente avec mes collègues députées et beaucoup de militantes & militants au lancement de campagne de Pieyre-Alexandre Anglade à Bruxelles Notre projet est le seul projet pro-européen Les 5 et 19 juin, votez pour @PA_Anglade ! #Ensemble #legislatives2022 Renaissance and 8 others 1 18 112 Retweeted Renaissance @Renaissance_UE · May 11 « Il ne faut pas avoir peur des mots : il faut faire bouger l’ Ça va prendre du temps, mais il y a un moment particulier Même les sont d’accord pour faire bouger les traités » — @PDurandOfficiel 2,874 ', 'author': 'CZacharopoulou', 'label': 2}, {'tweet': \" 0:00 / 1:22 17 36 101 Retweeted Emmanuel Macron @EmmanuelMacron · May 10 En mars, nous avons lancé une initiative pour faire face aux conséquences de la guerre en Ukraine sur la sécurité alimentaire mondiale Aux Présidents @Macky_Sall et @AUC_MoussaFaki ce soir, j’ai redit mon engagement total Nous continuons de mobiliser Quote Tweet Emmanuel Macron @EmmanuelMacron · Mar 24 Pour éviter une crise alimentaire, il nous faut réagir J’ai souhaité lancer, en lien direct avec l'Union africaine, l'initiative FARM : Food and Agriculture Resilience Mission 264\\n2K \", 'author': 'CZacharopoulou', 'label': 2}, {'tweet': ' 0:01 / 5:48 1,156 489 1,954 · May 10 #AfganistanWomen #Kaboul Quote Tweet BFMTV @BFMTV · May 10 Afghanistan: des femmes manifestent à Kaboul contre un décret imposant le port du voile intégral 18\\n1K ', 'author': 'CZacharopoulou', 'label': 2}, {'tweet': ' 0:01 / 1:11 1:09 18\\n1K ', 'author': 'CZacharopoulou', 'label': 2}, {'tweet': \" 9 18 · May 9 «Ce que nous vous remettons, c'est le fruit de mois de sacrifices & d'engagements Ces propositions dessinent une nouvelle #Europe dans laquelle nous croyons & pour laquelle nous continuerons à combattre » Laura pour ton engagement #9mai2022 #EuropeDay #journeedeleurope Renaissance and 9 others 2 18 59 · May 9 @EmmanuelMacron : «Aujourd’hui, en ce #9Mai, la liberté et l’espoir dans le futur ont le visage de l’Union Européenne » #CoFoE #EuropeDay22 #Macron #Strasbourg 1,015 \", 'author': 'CZacharopoulou', 'label': 2}, {'tweet': ' 0:01 / 0:31 24 72 Retweeted Élysée @Elysee · May 9 Organisation du gouvernement - France À Strasbourg, le Président @EmmanuelMacron appelle les Européens à engager les réflexions sur une nouvelle Communauté politique européenne 48K ', 'author': 'CZacharopoulou', 'label': 2}, {'tweet': ' 0:01 / 4:50 31 172 421 Retweeted Emmanuel Macron @EmmanuelMacron · May 9 L’Europe s’est réveillée ! L’indépendance doit maintenant être au cœur de notre projet Le projet d’une Europe maîtresse de son destin, libre de ses choix, puissante et ouverte au monde Une Europe qui choisit ses partenaires et ne dépend plus d’eux 4:42 53\\n5K ', 'author': 'CZacharopoulou', 'label': 2}, {'tweet': ' 343 725 2,275 Retweeted Emmanuel Macron @EmmanuelMacron · May 9 Chers citoyens européens · May 1 Aggresser un pompier qui éteint un départ de feu est inadmissible et intolérable Plein soutien à tous les pompiers qui luttent pour la sécurité de tous! Ces actes de violences doivent être sévèrement punis @PompiersParis #manifestation #1erMai #fetedutravail Quote Tweet @PompiersParis @PompiersParis · May 1 Cela suffit ! Honte à la sauvagerie, incompréhensible cette nouvelle agression vis à vis des sapeurs-pompiers de Paris dans l’exercice de leurs fonctions, protéger les personnes, les biens de la Cité et le bon déroulement de la manifestation #1erMai Show this thread 1\\n4M ', 'author': 'CZacharopoulou', 'label': 2}, {'tweet': ' 0:01 / 0:21 2 14 30 Retweeted SantéArmées @santearmees · Apr 29 Visite du Président de la République @EmmanuelMacron à l’hôpital d’instruction des armées #Percy Rencontres et échanges avec le personnel #soignant du Service de santé des armées qui assurent la prise en charge des #blessés #militaires #CohésionDéfense Ministère des Armées and 7 others 29 127 518 · Apr 28 Investir dans l’agriculture durable, soutenir les petits exploitants, y compris les #femmes & les #jeunes pour développer leur résilience face aux crises Merci M Houngbo @IFADPresident pour notre échange sur la mission du @IFAD #UkraineRussiaWar #foodsecurity #Afrique #COP15 Emmanuel Macron and 9 others 10 43 · Apr 27 Très riches échanges à la @FAO à #Rome sur les conséquences de la guerre en #Ukraine sur la sécurité alimentaire mondiale, notamment en #Afrique Merci au @FAODG QU Dongyu et à toute l’équipe pour votre accueil! #SDG2 #Food #FoodSecurity #EUAfricaPartnership @_AfricanUnion FAO Brussels and 9 others 18 54 · Apr 24 Félicitations Monsieur le Président! La #France et l’#Europe ont gagné ce soir! #presidentielles2022 #Elections2022 ', 'author': 'CZacharopoulou', 'label': 2}, {'tweet': ' @ · Jun 9 « Il y a besoin d’un pays attractif, où les investissements du monde entier peuvent venir chez nous pour aider à créer de l’#emploi ! » Les 12 et 19 juin, refusons la tentation du repli sur soi Défendons la liberté d’entreprendre Donnons une majorité claire à @EmmanuelMacron 8,764 ', 'author': 'franckriester', 'label': 3}, {'tweet': ' 0:00 / 0:27 69 125 282 @ · Jun 9 Merci à toi chère @MariePierreV ainsi qu’à la délégation @RenaissanceUE pour votre mobilisation sur cette priorité portée par la France ! #PFUE2022 Quote Tweet Renaissance @Renaissance_UE · Jun 9 Nouvelle victoire #PFUE2022 ! Après 10 ans de blocage, l’ adopte enfin l’instrument sur la réciprocité sur les marchés publics Comme l’explique @MariePierreV, finie la concurrence déloyale des entreprises ou sur nos entreprises 2,386 ', 'author': 'franckriester', 'label': 3}, {'tweet': ' 0:01 / 1:22 6 21 Retweeted avec vous @avecvous · Jun 9 Des équilibres qui se dessineront à l’Assemblée nationale dépendent le destin de la France et les vies quotidiennes de chacun Dimanche, vous ferez un choix qui déterminera votre avenir #UneMajoritéPourMacron 9,568 ', 'author': 'franckriester', 'label': 3}, {'tweet': \" 0:01 / 1:22 74 442 643 @ · Jun 9 Au coeur des priorités de la #PFUE2022 , l’instrument de réciprocité est aujourd’hui définitivement adopté par le Parlement européen C’est une étape cruciale vers une politique commerciale moins naïve @Europe2022FR @francediplo @DGTresor @MariePierreV @caspary @berndlange Quote Tweet Renaissance @Renaissance_UE · Jun 9 « L’instrument pour la réciprocité sur les marchés publics, priorité de la #PFUE2022, a été créé Il permet d’assurer à nos entreprises une concurrence juste et équitable sur les marchés publics de l’ Continuons nos efforts pour une plus souveraine » — @MariePierreV @ · Jun 3 Au Conseil #Commerce, nous avons réaffirmé notre solidarité avec l'#Ukraine ce matin Nous devons également redoubler d'efforts pour répondre au défi de la sécurité alimentaire et déployer l'initiative FARM lors de la 12ème conférence ministérielle de l' @OMC_fr #PFUE Présidence française du Conseil de l’UE and 6 others 6 42 84 @ · Jun 3 Arrivée au Conseil #Commerce de Luxembourg, pour confirmer les impulsions données depuis le 1er janvier, en faveur d’une politique commerciale ouverte, moins naïve et plus durable #PFUE2022 Quote Tweet Présidence française du Conseil de l’UE @Europe2022FR Organisation du gouvernement - France · Jun 3 Déclaration de , ministre délégué chargé du Commerce extérieur et de l’Attractivité en amont de la réunion du Conseil Affaires étrangères – Commerce #CAE #PFUE2022 2,487 \", 'author': 'franckriester', 'label': 3}, {'tweet': ' 0:01 / 7:46 2 24 50 @ · Jun 2 Heureux de retrouver mon homologue néerlandaise @LSchreinemacher à la veille du Conseil #Commerce de Luxembourg Nous continuerons à travailler ensemble pour une politique commerciale plus #durable Présidence française du Conseil de l’UE and 5 others 2 14 56 @ · Jun 2 La Seine-et-Marne est une terre de confiance pour les entreprises comme @STIHL , qui a choisi d’implanter son site logistique à Quincy-Voisins et d’y créer des emplois Avec @P_Lemoine , nous continuerons à travailler pour rendre notre territoire toujours plus attractif ! @ · May 30 C’est avec une profonde tristesse que j’ai appris le décès du journaliste Frédéric Leclerc-Imhoff, touché par une frappe russe sur un convoi humanitaire en #Ukraine Mes plus sincères condoléances à ses proches et à l’ensemble de ses collègues Quote Tweet France Diplomatie @francediplo Organisation du gouvernement - France · May 30 #Ukraine   Décès du journaliste Frédéric Leclerc-Imhoff Lire la déclaration de @MinColonna → http://fdip\\nfr/Y3c5FsZ 17 53 Retweeted Catherine Colonna @MinColonna · May 30 France government official En #Ukraine, pour marquer le soutien de la France au peuple ukrainien Catherine Colonna and 3 others 263 850 3,524 @ · May 28 La campagne se poursuit d’un bout à l’autre de la circonscription, du marché de La Ferté-sous-Jouarre à celui de Magny-le-Hongre, sans oublier une magnifique respiration culturelle à Esbly ! On continue ! Patricia Lemoine and Ugo Pezzetta 1 22 54 Retweeted Élisabeth BORNE @Elisabeth_Borne · May 27 Rapidité Efficacité Résultats Une méthode et un collectif pour répondre aux attentes des Français Chaque journée de ce quinquennat sera utile 1,045 560 1,860 @ · May 26 Toujours heureux de venir à la découverte du tissu entrepreneurial de nos villages, comme ici à l’occasion de la journée des entreprises à Saâcy- sur-Marne Bravo à l’équipe municipale et au comité des fêtes pour cette belle initiative de valorisation des acteurs locaux ! ', 'author': 'franckriester', 'label': 3}, {'tweet': \" Retweeted L'insoumission @L_insoumission · 1h « Qu'avez-vous ressenti devant ces images de files d'attentes pour bouffer ? Nos gosses ! Comment a-t-on pu en arriver là ? Oui je parle fort, ça se voit sur ma figure, car je porte votre révolte » Message aux 70% de jeunes qui se sont abstenus dimanche Visit youtube\\ncom 28\\n4K \", 'author': 'JLMelenchon', 'label': 4}, {'tweet': \" 0:01 / 2:56 From 29 278 539 Show this thread @ · 2h « Le chaos, c’est Macron » Retrouvez mon interview pour Le Parisien en kiosque dès demain et sur : https://leparisien\\nfr/elections/legislatives/jean-luc-melenchon-le-chaos-cest-macron-14-06-2022-7PBHNWY52VGTJN3AZ6S4EJVEZA\\nphp?ts=1655207399337… 86 278 675 @ · 2h La bateau coule, Macron prend l'avion - Retrouvez ma nouvelle note de blog à découvrir et partager melenchon\\nfr Le bateau coule Macron prend l'avion - Melenchon\\nfr Bon voyage président ! N’oubliez pas de mettre votre ceinture, car le ciel turbule en ce moment Le coup de l’allocution sur le tarmac est raté après tant d’autres J’ose à peine dire que ca fait 215 545 1,392 Topics to follow Sign up to get Tweets about the Topics you follow in your Home timeline Carousel UEFA Champions League Lionel Messi Premier League Cristiano Ronaldo Paris Saint-Germain Real Madrid CF Zinedine Zidane Kylian Mbappe FC Barcelona Economics Ligue 1 Karim Benzema Manchester United Liverpool FC Neymar Manchester City Data science Paul Pogba La Liga Philosophy Chelsea FIFA Machine learning New York City Tottenham Hotspur Antoine Griezmann Olympique Marseille FC Bayern Munich Kevin De Bruyne Open source Retweeted L'insoumission @L_insoumission · 3h Législatives : 300 économistes soutiennent le programme de la NUPES Retweeted L'insoumission @L_insoumission · Jun 13 Scandale : comment les macronistes bidouillent les résultats des législatives #Legislatives2022 #NUPES linsoumission\\nfr Scandale : comment les macronistes bidouillent les résultats des législatives - L'insoumission Le ministère de l'Intérieur a bidouillé les résultats du 1er tour des élections législatives pour que la macronie arrive artificiellement en tête face à la 130 801 1,569 @ · Jun 13 Exemple de manipulation des résultats Jean-Hugues Ratenon siège 5 ans au groupe LFI à l’Assemblée Il n’est pas classé « #NUPES » par Darmanin mais « divers gauche » Il est arrivé en tête de la 5e circo de La Réunion 728 4,916 17\\n1K @ · Jun 13 Exemple de candidat non comptabilisé par Darmanin au compte de la #NUPES Bien sûr il sera élu Bien sûr il siégera au groupe PS, membre de la Nupes 317 1,540 5,199 @ · Jun 13 Ce lundi 13 juin, rendez-vous à 20h sur France 2 pour le #JT20h #MelenchonFrance2 #NUPES 143 577 1,665 @ · Jun 13 Ce mardi 14 juin, rendez-vous à 19h pour un meeting de la #NUPES à #Toulouse ! Rejoignez l'évènement #MelenchonToulouse sur : https://fb\\nme/e/4UrrosHVn Rendez-vous à la salle Jean Mermoz (7 Allée Gabriel Biénès) 46 517 1,228 @ · Jun 12 Sophia Chikirou élue au 1er tour ! Magnifique élection pour une militante grande responsable de notre mouvement et de la #NUPES Hourra ! #VcommeVictoire 465 1,431 9,108 @ · Jun 12 Danièle Obono élue au premier tour Superbe, une femme politique attaquée, insultée de tous côtés par tous les racistes, toujours debout au combat Merci aux parisiens ! #NUPES #VcommeVictoire @ · Jun 12 Bon, j'ai voté à Marseille Et vous ? #Legislatives2022 1,577 1,483 10\\n8K @ · Jun 11 Visite de la grotte Cosquer à Marseille Plongée dans le temps profond, ‐ 35 000 ans avant le présent Hygiène de l'esprit 654 730 4,583 Retweeted Nouvelle Union Populaire Écologique et Sociale @NUPES_2022_ · Jun 10 Vous voulez que @ soit Premier Ministre ? Dimanche, votez pour les candidats #NUPES ! #VcommeVictoire 138 377 982 @ · Jun 10 Dimanche, on peut changer l'histoire de notre pays Votez #NUPES pour un gouvernement de l'#UnionPopulaire, votez #VcommeVictoire ! Visit nupes-2022\\nfr 213\\n7K \", 'author': 'JLMelenchon', 'label': 4}, {'tweet': \" 0:01 / 1:07 999 2,921 7,039 @ · Jun 10 #Macron a envoyé la gendarmerie au lycée pour sermonner la jeune femme qui l'a interpellé Ça promet pour son grand bla-bla Tu dis oui ou les gendarmes arrivent 1,610 13K 47\\n6K Retweeted L'insoumission @L_insoumission · Jun 10 Pour avoir Mélenchon à Matignon : le bulletin « V » comme Victoire #VcommeVictoire @ · Jun 10 Les macronistes ont refusé toute discussion Le débat sur notre système de défense n'a pas lieu Impossible de débattre de l'eau et de la perturbation de son cycle, qui a pourtant débouché sur des #sécheresses qui menacent notre pays #MelenchonMarseille #VcommeVictoire Visit youtube\\ncom 4,095 \", 'author': 'JLMelenchon', 'label': 4}, {'tweet': \" 0:01 / 1:46 13 104 309 @ · Jun 10 M Bompard est à mes côtés depuis plusieurs années maintenant Il a dirigé des campagnes présidentielles qui nous ont amenées à 19,6% et 22% Vous aurez donc ici, à Marseille, un des dirigeants essentiels de l'Union populaire #MelenchonMarseille #VcommeVictoire Visit youtube\\ncom 4,751 \", 'author': 'JLMelenchon', 'label': 4}, {'tweet': \" 0:01 / 0:59 8 82 279 @ · Jun 10 « Notre adversaire dans cette campagne, c'est la résignation Notre travail est de rappeler l'importance de cette élection : elle représente un troisième tour, une opportunité historique Dimanche, on vote pour le V de la victoire » @mbompard #MelenchonMarseille #VcommeVictoire Visit youtube\\ncom 12\\n2K \", 'author': 'JLMelenchon', 'label': 4}, {'tweet': ' 0:01 / 0:35 40 225 528 @ · Jun 10 « Dimanche, vous pouvez voter pour le SMIC à 1500 euros net, le blocage des prix, la retraite à 60 ans, la planification écologique et la 6ème République Dimanche, vous pouvez faire quelque chose de grand » @mbompard #MelenchonMarseille #VcommeVictoire Visit youtube\\ncom 59\\n2K ', 'author': 'JLMelenchon', 'label': 4}, {'tweet': \" 0:01 / 2:13 712 713 1,824 @ · Jun 10 « On nous reproche d'avoir des désaccords Et alors, la retraite pour eux, c'est 65 ans avec M Macron ou 67 ans avec M Philippe ? Nous, c'est 60 ans Notre programme répond aux urgences et est chiffré Eux n'ont pas de programme » @mbompard #MelenchonMarseille #VcommeVictoire Visit youtube\\ncom 8,106 \", 'author': 'JLMelenchon', 'label': 4}, {'tweet': \" 0:00 / 1:11 33 201 587 @ · Jun 10 « Ce dimanche 12 juin est un moment décisif pour l'avenir de notre pays Il ne s'agit pas seulement de nous envoyer à l'Assemblée, mais d'élire une majorité de députés #NUPES pour gouverner le pays pendant les 5 prochaines années » @mbompard #MelenchonMarseille #VcommeVictoire @ · Jun 10 Adoption sociale, familles et entraide - Retrouvez ma nouvelle note de blog à découvrir et partager #VcommeVictoire melenchon\\nfr Adoption sociale, familles et entraide - Melenchon\\nfr Avant de quitter mon banc de député, j’ai déposé une dernière proposition de loi Une série de mes amis s’y sont joints De ce dernier texte de législateur je veux dire un mot Souvent la politique 24 141 292 @ · Jun 10 Ce vendredi 10 juin, rendez-vous à 18h30 pour une prise de parole à #Marseille ! Le direct sur Youtube : https://youtu\\nbe/26ZyRAlgR_Q Suivez et participez avec le hashtag #MelenchonMarseille 33 159 342 Retweeted Nouvelle Union Populaire Écologique et Sociale @NUPES_2022_ · Jun 10 Dimanche, votez pour les candidats de la #NUPES en choisissant le bulletin de vote avec le V de la victoire ! #VcommeVictoire Parti socialiste and 7 others 28 179 375 Retweeted L'insoumission @L_insoumission · Jun 10 Mélenchon devance Macron : le parti médiatique panique #NUPES #VcommeVictoire linsoumission\\nfr Mélenchon devance Macron : le parti médiatique panique - L'insoumission La NUPES première force politique du pays dans les sondages, le parti médiatique panique Les Unes montrant prêt à détruire le pays, ne se 138 609 1,392 Retweeted La France insoumise @FranceInsoumise · Jun 10 Ce dimanche 12 juin, choisissez le bulletin avec le V de la victoire et élisez #Melenchon1erMinistre ! #NUPES Retweeted La France insoumise @FranceInsoumise · Jun 10 Ce vendredi 10 juin, rendez-vous à 18h30 pour une prise de parole de @ à #Marseille ! Rejoignez l'évènement #MelenchonMarseille sur : https://fb\\nme/e/2zyt3S2R6 Rendez-vous rue Louis Astouin 24 118 248 @ · Jun 10 L'inflation est au plus haut niveau en France depuis 36 ans Le déficit commercial est le plus haut qu'on ait connu depuis longtemps Et ces gens viennent nous donner des leçons Le chaos du marché et de l'austérité, c'est eux Le sérieux, c'est nous Visit youtu\\nbe 18\\n3K \", 'author': 'JLMelenchon', 'label': 4}, {'tweet': ' 0:45 / 2:23 148 443 1,052 Retweeted Adrien Quatennens @AQuatennens · Jun 9 Les 12 et 19 juin, nous avons l’occasion de mettre un coup d’arrêt à la politique de maltraitance sociale et d’irresponsabilité écologique de Macron Un autre monde est encore possible Rendez-vous au bureau de vote, avec le bulletin V de notre victoire ! #AvecLaNupes #France2022 Visit nupes-2022\\nfr 35\\n5K ', 'author': 'JLMelenchon', 'label': 4}, {'tweet': \" 0:00 / 1:06 142 740 1,927 Retweeted L'insoumission @L_insoumission · Jun 9 Sur France 2, Adrien Quatennens s’émeut que la police tue et démontre qu’une autre police est possible #France2022 #AvecLaNUPES linsoumission\\nfr Sur France 2, Adrien Quatennens s'émeut que la police tue et démontre qu'une autre police est Dans une émission souvent confuse, encore plus tendue après cinq minutes d'amalgame entre immigration et délinquance par les porte-paroles de la haine 54 163 457 Retweeted Adrien Quatennens @AQuatennens · Jun 9 Si des gens supportent que la police fasse la justice et rétablisse la peine de mort pour un refus d'obtempérer, nous non Il y a un problème avec la doctrine Nous reviendrons à une police de proximité en recrutant 12 000 policiers #AveclaNupes #France2022 @ · Jun 9 « Si nous étions anti-flic, il n’y aurait pas de candidats policiers dans la #NUPES Mais oui, il y a un problème avec la doctrine de maintien de l’ordre Cette femme de 21 ans méritait de mourir ? » @AQuatennens #AvecLaNUPES #France2022 From Adrien Quatennens 280 937 2,951 @ · Jun 9 Salle de suivi de l'émission par les équipes de la #NUPES Le niveau lamentable de #France2 consterne #AvecLaNUPES #France2022 105 284 1,038 @ · Jun 9 Séquence infâme de #France2 sur le thème la faute à Mélenchon et vive la présomption de légitime défense La contribution du service public à la promotion de l'extrême-droite pour servir le macronisme est une honte #France2022 677 1,500 5,352 @ · Jun 9 Bravo @AQuatennens #Veran défend le fait de tirer 10 fois dans une voiture et dans la tête d'une jeune femme passagère #France2022 #AvecLaNUPES 506 1,244 5,121 Retweeted L'insoumission @L_insoumission · Jun 9 « 5 Français possèdent autant que 27 millions de personnes » : le rappel d’Adrien Quatennens à Olivier Véran sur France 2 #France2022 #AvecLaNUPES Retweeted L'insoumission @L_insoumission · Jun 9 Sur les #retraites, passe d’armes entre Adrien Quatennens et Olivier Véran sur France 2 #AvecLaNUPES #France2022 linsoumission\\nfr Sur les retraites, passe d'armes entre Adrien Quatennens et Olivier Véran sur France 2 - L'insoum Le débat des législatives sur France 2 a été l'occasion d'un débat : la retraite à 60 ans pour l'insoumis Adrien Quatennens, à 65 ans pour le macroniste 12 122 325 @ · Jun 9 « 5 Français possèdent autant que 27 millions de personnes Voilà la France que nous avons sous les yeux : des situations de Quart-monde, « et en même temps », des îlots d'extrême richesse Augmentons les salaires, bloquons les prix : il y a urgence » @AQuatennens #AvecLaNUPES Visit melenchon2022\\nfr 55\\n8K \", 'author': 'JLMelenchon', 'label': 4}, {'tweet': \" 0:01 / 2:19 168 1,205 3,102 Retweeted Nouvelle Union Populaire Écologique et Sociale @NUPES_2022_ · Jun 9 La majorité des téléspectateurs de #France2022 sont d'accord #AvecLaNUPES pour augmenter le SMIC à 1500 euros net par mois ! 179 802 2,145 Retweeted Adrien Quatennens @AQuatennens · Jun 9 Les 12 et 19 juin, les Français vont choisir le cap politique des 5 prochaines années Nous sommes rassemblés autour d'un programme qui contient des réponses précises pour le pouvoir d'achat : nous bloquerons les prix, comme cela se fait à La Réunion #France2022 #AvecLaNUPES Visit nupes-2022\\nfr 20\\n4K \", 'author': 'JLMelenchon', 'label': 4}, {'tweet': \" 0:01 / 1:55 44 468 1,097 Retweeted Nouvelle Union Populaire Écologique et Sociale @NUPES_2022_ · Jun 9 #AvecLaNUPES, nous bloquerons les prix de l'essence et des produits de première nécessité ! #France2022 @ · Jun 9 Après avoir dit que la retraite serait à 65 ans, puis que rien n'était obligé, puis qu'on verrait d'ici à 2023, nous apprenons finalement que l'affaire serait réglée cet été La décision de #Macron est assez confuse et incohérente, à l'image de la politique de la majorité #Nupes Visit youtube\\ncom 8,425 \", 'author': 'JLMelenchon', 'label': 4}, {'tweet': \" 0:01 / 1:46 35 227 543 @ · Jun 9 M #Macron tient un discours d'affolement contre la #NUPES, vieux de 45 ans, qui ne sert à rien Il est extrêmement grave d'accuser ses opposants de fragiliser l'unité du pays C'est notre devoir de nous opposer M Macron a du mal avec l'opposition et la démocratie #NUPES Visit youtube\\ncom 16\\n9K \", 'author': 'JLMelenchon', 'label': 4}, {'tweet': ' 0:01 / 1:09 89 451 1,151 @ · Jun 9 Je me demande ce qui se serait passé si j\\'avais dit : \"il faut mettre M #Macron hors d\\'état de nuire\" Car c\\'est ce qu\\'a dit à mon propos M Estrosi, membre de la majorité #NUPES youtube\\ncom EN DIRECT - Prise de parole de - #NUPES Rendez-vous ce jeudi 9 juin vers 16h pour une prise de parole de en direct Partagez avec #NUPES 37 220 541 Show this thread @ · Jun 9 Ce n\\'est pas au président de la République de faire une campagne législative que ses proches ne veulent pas mener Il n\\'est pas là pour essayer de faire flotter le radeau de la Méduse #NUPES youtube\\ncom EN DIRECT - Prise de parole de - #NUPES Rendez-vous ce jeudi 9 juin vers 16h pour une prise de parole de en direct Partagez avec #NUPES 23 135 391 Show this thread @ · Jun 9 Tout le monde sait que le plus simple pour arrêter un véhicule, c\\'est de tirer sur les pneus, pas des balles dans la tête Ils ont tiré 10 fois Une jeune femme de 21 ans est morte L\\'usage de la force n\\'a pas été disproportionné ? #Nupes #LaPoliceTue 3:51 267\\n5K ', 'author': 'JLMelenchon', 'label': 4}, {'tweet': \" 2,085 2,122 5,074 @ · Jun 9 M #Macron a dit qu'il fallait de la cohérence, de la compétence et de la confiance C'est tout ce qui manque à cette équipe macroniste #NUPES @ · Jun 9 M #Macron dit que ceux qui s'opposent à lui fragilisent l'unité du pays En démocratie, ça n'existe pas : nous sommes dans une élections et nous devons y faire des choix #NUPES youtube\\ncom EN DIRECT - Prise de parole de - #NUPES Rendez-vous ce jeudi 9 juin vers 16h pour une prise de parole de en direct Partagez avec #NUPES 3 104 255 Show this thread @ · Jun 9 Le propos de M #Macron contient des choses inutiles auxquelles nous ne pouvons répondre à cause des règles sur le temps de parole Par exemple ce qu'il dit sur la #Russie Tout le monde en France dénonce l'invasion russe en #Ukraine #NUPES youtube\\ncom EN DIRECT - Prise de parole de - #NUPES Rendez-vous ce jeudi 9 juin vers 16h pour une prise de parole de en direct Partagez avec #NUPES 4 74 199 Show this thread @ · Jun 9 Monsieur #Macron n'aura pas eu un mot pour les personnels hospitaliers, il n'a pas eu un mot pour les diplomates qui ont fait une grève massive, pas un mot pour les élèves de la nouvelle ENA #NUPES youtube\\ncom EN DIRECT - Prise de parole de - #NUPES Rendez-vous ce jeudi 9 juin vers 16h pour une prise de parole de en direct Partagez avec #NUPES 13 135 326 Show this thread @ · Jun 9 EN DIRECT - Prise de parole de @ en réaction au discours d'Emmanuel #Macron dans le Tarn - #NUPES Suivez également ce direct sur Twitch : https://twitch\\ntv/ Et sur YouTube : https://youtu\\nbe/kndm-SEyzKg · 23\\n5K viewers 0:01 / 14:18 @ Prise de parole de en réaction au discours d'Emmanuel Macron dans le Tarn 111 413 839 Show this thread @ · Jun 9 Ce jeudi 9 juin, rendez-vous à 16h00 pour une prise de parole ! Le direct sur Youtube : https://youtu\\nbe/kndm-SEyzKg Participez avec le hashtag #NUPES 49 160 352 @ · Jun 9 Macron s'est engagé à ramener le déficit de l'État à 3% en 2027 Il doit trouver 80 milliards d'euros C'est l'équivalent du budget actuel du ministère de l’Intérieur et du ministère de la Santé Il prépare la pire cure d'austérité que l'on n'ait jamais connue \", 'author': 'JLMelenchon', 'label': 4}, {'tweet': ' @ · Jun 10 En #Touraine, avec les candidats de la majorité Merci de votre accueil chaleureux et de votre engagement Dimanche, on vote! #legislatives Quote Tweet Sabine Thillaye @SabineThillaye · Jun 10 Aux cotés de @ , notre nouvelle ministre des affaires étrangères entourée des candidats de la majorité présidentielle aux #legislatives2022 ce jour en Touraine Ukraine, urgence climatique, tension dans la région indopacifique De nombreux défis à relever! 23 67 @ · Jun 10 Hommage à Frédéric Leclerc-Imhoff, et à tous les journalistes qui nous informent: votre travail est indispensable Je renouvelle mes sincères condoléances à sa famille et ses amis #Ukraine️ Quote Tweet BFMTV @BFMTV · Jun 10 \"Il voulait se servir de son objectif pour nous donner à voir la réalité en toute impartialité\" Sylviane Imhoff rend hommage à son fils Frédéric Leclerc-Imhoff 61\\n6K ', 'author': 'MinColonna', 'label': 5}, {'tweet': \" 0:01 / 5:21 7 65 186 @ · Jun 10 #CoreeduSud   J'ai reçu ce matin Kim Gi-Hyeon, envoyé spécial pour l'Europe du Président coréen Nous avons évoqué le renforcement de notre partenariat avec #Seoul et de nouveaux projets de coopération, notamment dans l'#Indopacifique and 2 others 3 24 89 Retweeted Paris Peace Forum @ParisPeaceForum · Jun 8 “There is no place for wheat diplomacy Food security cannot be bargained for political purposes\\n” said @CZacharopoulou ( @francediplo_EN ) at our Spring Meeting session dedicated to finding solutions to the looming global #foodcrisis http://bit\\nly/3x9LDie SOUND ON 1:42 912 \", 'author': 'MinColonna', 'label': 5}, {'tweet': \" 1 15 32 @ · Jun 10 Bon entretien à #Paris avec mon homologue moldave @nicupopescu Je salue la solidarité du peuple moldave qui accueille de nombreux réfugiés ukrainiens La coopération entre nos deux pays est déjà étroite, elle sera poursuivie Retweeted Isabelle Rome @RomeIsabelle · Jun 7 #PFUE2022   Accord provisoire trouvé avec le Parlement sur la directive #WomenOnBoards Priorité de la présidence de l'Union européenne, la parité doit se traduire par les actes Avec cette directive, les conseils d'administration des entreprises cotées seront plus mixtes Présidence française du Conseil de l’UE and 6 others 5 76 178 @ · Jun 7 Echanges fructueux aujourd'hui avec Mahamadou Issoufou @IssoufouMhm , ancien président du Niger, sur la situation au Sahel et les enjeux de sécurité, de gouvernance et de développement, y compris la Grande Muraille Verre @panegmv et la sécurité alimentaire France Diplomatie and 2 others 26 84 228 @ · Jun 7 Utile conversation avec @jensstoltenberg pour préparer le Sommet de Madrid, marquer le plein engagement de la dans @NATO et notre soutien à la candidature de & Face à l’agression russe en #Ukraine, fermeté et unité sont indispensables pour la sécurité euro-atlantique and 3 others 16 125 361 @ · Jun 6 Ravie de recevoir mon homologue espagnol @jmalbares à #Paris Nous avons discuté de la coopération , de notre étroite coordination européenne #PFUE et du soutien à l'#Ukraine L'amitié franco-espagnole est remarquable et notre dialogue essentiel @ · Jun 2 Buona #FestadellaRepubblica2022 amici! Heureuse de faire vivre avec vous l'amitié franco-italienne et le traité du Quirinal Luigi Di Maio and Masset Christian 4 50 231 @ · Jun 2 Since your first visit as a young Princess, the French people have taken you into their hearts We are deeply grateful for your friendship 3 18 123 Show this thread @ · Jun 2 On this wonderful occasion I wish Your Majesty a joyful #platinumjubilee As Ambassador to the UK it has been my great privilege to present my letters to you As FM I will endeavour to further strenghten the friendly ties between our 2 countries Félicitations, Votre Majesté! 9 111 768 Show this thread Retweeted Emmanuel Macron @EmmanuelMacron · Jun 2 Officiel du gouvernement - France Madame, Your Majesty, 2:13 2\\n1M \", 'author': 'MinColonna', 'label': 5}, {'tweet': \" 2,070 6,342 34\\n4K @ · Jun 2 #Danemark Je salue le vote historique du peuple danois sur la coopération de sécurité et de défense Il va renforcer la souveraineté de l'Europe @ · May 30 Merci Président @ZelenskyyUa de votre accueil chaleureux J'étais heureuse de porter, au nom du Président de la Republique, le message de soutien et d'admiration qui est le nôtre Un message d'amitié 70 332 1,308 Retweeted France Diplomatie @francediplo · May 30 Organisation du gouvernement - France @ a tenu une conférence de presse avec son homologue ukrainien @DmytroKuleba à #Kiev à la mi-journée → http://youtube\\ncom/watch?v=-RAQ-Ut8CSs… #WeStandWithUkraine and 2 others 18 79 172 @ · May 30 Je me suis entretenue avec le gouverneur de Louhansk et ai demandé une enquête au Président @ZelenskyyUa , qui m'ont assurée de leur aide et soutien C'est un double crime qui vise un convoi humanitaire et un journaliste 40 249 716 @ · May 30 Je suis profondément attristée & choquée par la mort de notre compatriote Frédéric Leclerc Imhoff, tué par un bombardement russe sur une opération humanitaire alors qu'il exerçait son devoir d'informer Toutes mes pensées vont à sa famille, à ses collègues et aux journalistes 28 292 1,001 @ · May 30 Avec mon ami @DmytroKuleba devant le mur aux morts pour l'#Ukraine La France a la plus grande admiration pour le courage du peuple ukrainien qui se bat pour la liberté #WeStandWithUkraine and 4 others 52 256 851 @ · May 30 Aux côtés du maire et du gouverneur de Boutcha, pour dire au nom de la France notre plus profonde condamnation et notre horreur des exactions russes, rendre hommage aux victimes et soutenir la lutte contre l'impunité De tels actes ne peuvent rester impunis #Ukraine @ · May 24 Vielen Dank, chère Annalena @ABaerbock , venir à Berlin en premier était une évidence, ce fut un plaisir d'inaugurer avec toi un tandem franco-allemand inédit au féminin Außenministerin Annalena Baerbock and 3 others 18 104 534 Retweeted France Diplomatie @francediplo · May 24 Organisation du gouvernement - France Direct   Conférence de presse conjointe de @ et @ABaerbock Quote Tweet GermanForeignOffice @GermanyDiplo Germany government organization · May 24 Coming up here at +/- 4\\n10 p\\nm in French language: Opening statements by FM @ABaerbock together with FM @ https://twitter\\ncom/i/broadcasts/1ypJdEvnpOoxW… 4 26 46 Retweeted Élisabeth BORNE @Elisabeth_Borne · May 23 Officiel du gouvernement - France Elie Buzyn est de ceux qui ont permis à la France de ne pas oublier Grand témoin de la Shoah, il n’a eu de cesse de vouloir transmettre cette histoire indicible Nous serons à la hauteur pour continuer son travail de mémoire gouvernement\\nfr Décès d'Elie Buzyn 75 228 1,180 Retweeted Pascal Thibaut @pthibaut · May 23 Première rencontre demain à Berlin entre la ministre des Affaires étrangères allemande @ABaerbock et sa nouvelle homologue française @ 2 28 71 @ · May 22 Chère @ABaerbock , j'ai été très heureuse de notre premier entretien et j'attends avec impatience notre future rencontre Tu peux compter sur mon engagement pour la coopération franco-allemande, au service de l'Europe et des grands enjeux internationaux 30 112 Show this thread @ · May 22 Cher @SecBlinken , merci pour tes vœux et cette 1ere conversation Je me réjouis de continuer à renforcer avec toi le partenariat étroit et de confiance attendu entre les plus vieux alliés que sont & Ravie de poursuivre notre coordination étroite sur #Ukraine notamment 4 44 121 Show this thread @ · May 22 Dear @SecBlinken , delighted by this first discussion As oldest allies, looking forward to continuing and reinforcing our trustful partnership and close coordination on #Ukraine, food security, #JCPOA, #Climate crisis and all the other common challenges ahead of us 8 68 212 Show this thread @ · May 22 Liebe @ABaerbock ich habe mich sehr über unser erstes Gespräch gefreut und blicke unserem künftigen Treffen gespannt entgegen Du kannst mit meinem Engagement zugunsten der - Zusammenarbeit rechnen, die im Dienste Europas & der großen internationalen Herausforderungen steht 7 91 444 Show this thread @ · May 21 Merci cher @JosepBorrellF pour ces premiers échanges chaleureux Je me réjouis de pouvoir travailler avec toi au renforcement de la souveraineté européenne dans le cadre de la présidence française du conseil de l’UE #PFUE2022 \", 'author': 'MinColonna', 'label': 5}]\n"
     ]
    },
    {
     "name": "stderr",
     "output_type": "stream",
     "text": [
      "C:\\Users\\Alejandro Ciuba\\AppData\\Local\\Temp\\ipykernel_8024\\3284250530.py:1: FutureWarning: Using short name for 'orient' is deprecated. Only the options: ('dict', list, 'series', 'split', 'records', 'index') will be used in a future version. Use one of the above to silence this warning.\n",
      "  print(dataset_df.to_dict('record'))\n"
     ]
    }
   ],
   "source": [
    "print(dataset_df.to_dict('record'))"
   ]
  },
  {
   "cell_type": "code",
   "execution_count": 36,
   "metadata": {},
   "outputs": [],
   "source": [
    "#Save it as a pickle\n",
    "dataset_df.to_pickle('dataset_df.pkl')"
   ]
  },
  {
   "cell_type": "code",
   "execution_count": 42,
   "metadata": {},
   "outputs": [
    {
     "name": "stdout",
     "output_type": "stream",
     "text": [
      "<class 'pandas.core.frame.DataFrame'>\n",
      "RangeIndex: 50 entries, 0 to 49\n",
      "Data columns (total 3 columns):\n",
      " #   Column  Non-Null Count  Dtype \n",
      "---  ------  --------------  ----- \n",
      " 0   tweet   50 non-null     object\n",
      " 1   author  50 non-null     object\n",
      " 2   label   50 non-null     object\n",
      "dtypes: object(3)\n",
      "memory usage: 1.3+ KB\n"
     ]
    }
   ],
   "source": [
    "# Making a training testing split\n",
    "dataset_df.info()"
   ]
  },
  {
   "cell_type": "code",
   "execution_count": 66,
   "metadata": {},
   "outputs": [
    {
     "data": {
      "text/html": [
       "<div>\n",
       "<style scoped>\n",
       "    .dataframe tbody tr th:only-of-type {\n",
       "        vertical-align: middle;\n",
       "    }\n",
       "\n",
       "    .dataframe tbody tr th {\n",
       "        vertical-align: top;\n",
       "    }\n",
       "\n",
       "    .dataframe thead th {\n",
       "        text-align: right;\n",
       "    }\n",
       "</style>\n",
       "<table border=\"1\" class=\"dataframe\">\n",
       "  <thead>\n",
       "    <tr style=\"text-align: right;\">\n",
       "      <th></th>\n",
       "      <th>tweet</th>\n",
       "      <th>author</th>\n",
       "      <th>label</th>\n",
       "      <th>split</th>\n",
       "    </tr>\n",
       "  </thead>\n",
       "  <tbody>\n",
       "    <tr>\n",
       "      <th>0</th>\n",
       "      <td>ts   En cette journée mondiale du #DonDeSang ,...</td>\n",
       "      <td>CBeaune</td>\n",
       "      <td>1</td>\n",
       "      <td>5</td>\n",
       "    </tr>\n",
       "    <tr>\n",
       "      <th>1</th>\n",
       "      <td>0:01 / 0:23 40 149 343 @ · 9h #Législatives20...</td>\n",
       "      <td>CBeaune</td>\n",
       "      <td>1</td>\n",
       "      <td>2</td>\n",
       "    </tr>\n",
       "    <tr>\n",
       "      <th>2</th>\n",
       "      <td>0:00 / 0:09 20 126 321 Topics to follow Sign ...</td>\n",
       "      <td>CBeaune</td>\n",
       "      <td>1</td>\n",
       "      <td>2</td>\n",
       "    </tr>\n",
       "    <tr>\n",
       "      <th>3</th>\n",
       "      <td>0:01 / 1:02 47 56 122 @ · 11h Une majorité po...</td>\n",
       "      <td>CBeaune</td>\n",
       "      <td>1</td>\n",
       "      <td>3</td>\n",
       "    </tr>\n",
       "    <tr>\n",
       "      <th>4</th>\n",
       "      <td>0:00 / 1:26 21 71 158 Retweeted LCI @LCI · Ju...</td>\n",
       "      <td>CBeaune</td>\n",
       "      <td>1</td>\n",
       "      <td>1</td>\n",
       "    </tr>\n",
       "  </tbody>\n",
       "</table>\n",
       "</div>"
      ],
      "text/plain": [
       "                                               tweet   author label  split\n",
       "0  ts   En cette journée mondiale du #DonDeSang ,...  CBeaune     1      5\n",
       "1   0:01 / 0:23 40 149 343 @ · 9h #Législatives20...  CBeaune     1      2\n",
       "2   0:00 / 0:09 20 126 321 Topics to follow Sign ...  CBeaune     1      2\n",
       "3   0:01 / 1:02 47 56 122 @ · 11h Une majorité po...  CBeaune     1      3\n",
       "4   0:00 / 1:26 21 71 158 Retweeted LCI @LCI · Ju...  CBeaune     1      1"
      ]
     },
     "execution_count": 66,
     "metadata": {},
     "output_type": "execute_result"
    }
   ],
   "source": [
    "# Make training testing split\n",
    "import random\n",
    "def split_assigner():\n",
    "    return random.choice([1,2,3,4,5]) # 5 = testing\n",
    "\n",
    "dataset_df['split'] = dataset_df['tweet'].map(lambda x: split_assigner())\n",
    "\n",
    "dataset_df.head()"
   ]
  },
  {
   "cell_type": "code",
   "execution_count": 67,
   "metadata": {},
   "outputs": [
    {
     "name": "stdout",
     "output_type": "stream",
     "text": [
      "8\n"
     ]
    }
   ],
   "source": [
    "# Get split\n",
    "train_X, train_y = dataset_df[dataset_df['split'] < 5].tweet, dataset_df[dataset_df['split'] < 5].author\n",
    "test_X, test_y = dataset_df[dataset_df['split'] == 5].tweet, dataset_df[dataset_df['split'] == 5].author\n",
    "\n",
    "print(len(test_X))"
   ]
  },
  {
   "cell_type": "code",
   "execution_count": 50,
   "metadata": {},
   "outputs": [],
   "source": [
    "# Necessary Imports\n",
    "import numpy as np\n",
    "import pandas as pd\n",
    "import nltk\n",
    "\n",
    "# sklearn models, vectorizers, and pipelines\n",
    "from sklearn.feature_extraction.text import TfidfVectorizer\n",
    "\n",
    "from sklearn.naive_bayes import MultinomialNB\n",
    "from sklearn.svm import SVC\n",
    "from sklearn.linear_model import LinearRegression\n",
    "\n",
    "from sklearn.pipeline import make_pipeline\n",
    "\n",
    "# sklearn loading and splitting\n",
    "from sklearn.datasets import load_files\n",
    "from sklearn.model_selection import train_test_split\n",
    "from sklearn.model_selection import StratifiedKFold\n",
    "\n",
    "# sklearn accuracy measurements and displays\n",
    "from sklearn.metrics import confusion_matrix\n",
    "from sklearn.metrics import accuracy_score\n",
    "from sklearn.metrics import mean_absolute_error\n",
    "\n",
    "import os\n",
    "\n",
    "import matplotlib.pyplot as plt\n",
    "import seaborn as sns\n",
    "\n",
    "sns.set_style('darkgrid')"
   ]
  },
  {
   "cell_type": "code",
   "execution_count": 68,
   "metadata": {},
   "outputs": [
    {
     "data": {
      "text/plain": [
       "Pipeline(steps=[('tfidfvectorizer',\n",
       "                 TfidfVectorizer(max_features=10000,\n",
       "                                 tokenizer=<function word_tokenize at 0x000002B04253BDC0>)),\n",
       "                ('svc', SVC(C=100000.0))])"
      ]
     },
     "execution_count": 68,
     "metadata": {},
     "output_type": "execute_result"
    }
   ],
   "source": [
    "l1nbmodel = make_pipeline(TfidfVectorizer(max_features=10000, tokenizer=nltk.word_tokenize), SVC(kernel='rbf', C=1E5))\n",
    "# Train the model\n",
    "l1nbmodel.fit(train_X, train_y)"
   ]
  },
  {
   "cell_type": "code",
   "execution_count": 69,
   "metadata": {},
   "outputs": [
    {
     "data": {
      "image/png": "[encoded data removed]",
      "text/plain": [
       "<Figure size 432x288 with 2 Axes>"
      ]
     },
     "metadata": {},
     "output_type": "display_data"
    }
   ],
   "source": [
    "# Confusion matrix heat map\n",
    "def heat(test_y, pred_y, color='Reds'):\n",
    "    mat = confusion_matrix(test_y, pred_y)\n",
    "\n",
    "    sns.heatmap(mat, square=True, annot=True, fmt='d', cmap=color,\n",
    "                xticklabels=set(test_y), yticklabels= set(test_y))\n",
    "    plt.xlabel('predicted label')\n",
    "    plt.ylabel('true label')\n",
    "    plt.show()\n",
    "# Test the model\n",
    "pred_y = l1nbmodel.predict(test_X)\n",
    "# Print a heatmap of the confusion matrix\n",
    "heat(test_y, pred_y)"
   ]
  }
 ],
 "metadata": {
  "interpreter": {
   "hash": "f4fde45515710cbe4f4cf44a8ddef1b298277709bd6c5462499553af68a98f2e"
  },
  "kernelspec": {
   "display_name": "Python 3.9.6 64-bit",
   "language": "python",
   "name": "python3"
  },
  "language_info": {
   "codemirror_mode": {
    "name": "ipython",
    "version": 3
   },
   "file_extension": ".py",
   "mimetype": "text/x-python",
   "name": "python",
   "nbconvert_exporter": "python",
   "pygments_lexer": "ipython3",
   "version": "3.9.6"
  },
  "orig_nbformat": 4
 },
 "nbformat": 4,
 "nbformat_minor": 2
}
