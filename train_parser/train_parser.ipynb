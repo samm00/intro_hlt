{
 "cells": [
  {
   "cell_type": "code",
   "execution_count": 3,
   "metadata": {},
   "outputs": [],
   "source": [
    "import pandas as pd\n",
    "import re"
   ]
  },
  {
   "cell_type": "code",
   "execution_count": 5,
   "metadata": {},
   "outputs": [
    {
     "name": "stdout",
     "output_type": "stream",
     "text": [
      "<class 'pandas.core.frame.DataFrame'>\n",
      "Int64Index: 310 entries, 0 to 323\n",
      "Data columns (total 2 columns):\n",
      " #   Column       Non-Null Count  Dtype \n",
      "---  ------       --------------  ----- \n",
      " 0   Unnamed: 0   310 non-null    object\n",
      " 1   JLMelenchon  310 non-null    object\n",
      "dtypes: object(2)\n",
      "memory usage: 7.3+ KB\n"
     ]
    }
   ],
   "source": [
    "# Upload the .tsv\n",
    "FILEPATH = 'train.tsv'\n",
    "training_df = pd.read_csv(FILEPATH, sep='\\t').dropna()\n",
    "\n",
    "training_df.sample(10)\n",
    "training_df.info()"
   ]
  },
  {
   "cell_type": "code",
   "execution_count": 29,
   "metadata": {},
   "outputs": [
    {
     "name": "stdout",
     "output_type": "stream",
     "text": [
      "SUBJECT: CBeaune\n",
      "ts | En cette journée mondiale du #DonDeSang  , rappelons que la majorité a mis fin à une inégalité \n",
      "SUBJECT: CZacharopoulou\n",
      "                           ·  21h            Excellente discussion avec S\n",
      "E   @IssoufouMhm  , ancien\n",
      "SUBJECT: franckriester\n",
      "                  @      ·  Jun 9            « Il y a besoin d’un pays attractif, où les investissem\n",
      "SUBJECT: JLMelenchon\n",
      "  Retweeted           L'insoumission      @L_insoumission    ·  1h  « Qu'avez-vous ressenti devant c\n",
      "SUBJECT: MinColonna\n",
      "                   @     ·  Jun 10              En #Touraine, avec les candidats de la majorité\n",
      " Mer\n"
     ]
    }
   ],
   "source": [
    "files = ['CBeaune', 'CZacharopoulou', 'franckriester', 'JLMelenchon', 'MinColonna']\n",
    "\n",
    "# For cleaning purposes\n",
    "dataset = {file: '' for file in files}\n",
    "\n",
    "for file in files:\n",
    "    with open(file + '.txt', 'r', encoding='utf-8') as src:\n",
    "        dataset[file] = src.read(-1)\n",
    "        print(\"SUBJECT:\", file)\n",
    "        print(dataset[file][:100])"
   ]
  },
  {
   "cell_type": "code",
   "execution_count": 30,
   "metadata": {},
   "outputs": [
    {
     "data": {
      "text/html": [
       "<div>\n",
       "<style scoped>\n",
       "    .dataframe tbody tr th:only-of-type {\n",
       "        vertical-align: middle;\n",
       "    }\n",
       "\n",
       "    .dataframe tbody tr th {\n",
       "        vertical-align: top;\n",
       "    }\n",
       "\n",
       "    .dataframe thead th {\n",
       "        text-align: right;\n",
       "    }\n",
       "</style>\n",
       "<table border=\"1\" class=\"dataframe\">\n",
       "  <thead>\n",
       "    <tr style=\"text-align: right;\">\n",
       "      <th></th>\n",
       "      <th>tweet</th>\n",
       "      <th>author</th>\n",
       "    </tr>\n",
       "  </thead>\n",
       "  <tbody>\n",
       "    <tr>\n",
       "      <th>38</th>\n",
       "      <td>0:00 / 1:11 33 201 587 @ · Jun 10 « Ce dimanc...</td>\n",
       "      <td>JLMelenchon</td>\n",
       "    </tr>\n",
       "    <tr>\n",
       "      <th>5</th>\n",
       "      <td>0:01 / 1:56 44 114 246 @ · Jun 13 Juste une m...</td>\n",
       "      <td>CBeaune</td>\n",
       "    </tr>\n",
       "    <tr>\n",
       "      <th>11</th>\n",
       "      <td>0:00 / 0:56 305 364 692 Retweeted Olivia Greg...</td>\n",
       "      <td>CZacharopoulou</td>\n",
       "    </tr>\n",
       "    <tr>\n",
       "      <th>3</th>\n",
       "      <td>0:01 / 1:02 47 56 122 @ · 11h Une majorité po...</td>\n",
       "      <td>CBeaune</td>\n",
       "    </tr>\n",
       "    <tr>\n",
       "      <th>28</th>\n",
       "      <td>0:01 / 1:22 6 21 Retweeted avec vous @avecvou...</td>\n",
       "      <td>franckriester</td>\n",
       "    </tr>\n",
       "    <tr>\n",
       "      <th>18</th>\n",
       "      <td>0:00 / 1:22 17 36 101 Retweeted Emmanuel Macr...</td>\n",
       "      <td>CZacharopoulou</td>\n",
       "    </tr>\n",
       "    <tr>\n",
       "      <th>23</th>\n",
       "      <td>0:01 / 4:50 31 172 421 Retweeted Emmanuel Mac...</td>\n",
       "      <td>CZacharopoulou</td>\n",
       "    </tr>\n",
       "    <tr>\n",
       "      <th>39</th>\n",
       "      <td>0:45 / 2:23 148 443 1,052 Retweeted Adrien Qu...</td>\n",
       "      <td>JLMelenchon</td>\n",
       "    </tr>\n",
       "    <tr>\n",
       "      <th>24</th>\n",
       "      <td>343 725 2,275 Retweeted Emmanuel Macron @Emma...</td>\n",
       "      <td>CZacharopoulou</td>\n",
       "    </tr>\n",
       "    <tr>\n",
       "      <th>42</th>\n",
       "      <td>0:01 / 1:55 44 468 1,097 Retweeted Nouvelle U...</td>\n",
       "      <td>JLMelenchon</td>\n",
       "    </tr>\n",
       "  </tbody>\n",
       "</table>\n",
       "</div>"
      ],
      "text/plain": [
       "                                                tweet          author\n",
       "38   0:00 / 1:11 33 201 587 @ · Jun 10 « Ce dimanc...     JLMelenchon\n",
       "5    0:01 / 1:56 44 114 246 @ · Jun 13 Juste une m...         CBeaune\n",
       "11   0:00 / 0:56 305 364 692 Retweeted Olivia Greg...  CZacharopoulou\n",
       "3    0:01 / 1:02 47 56 122 @ · 11h Une majorité po...         CBeaune\n",
       "28   0:01 / 1:22 6 21 Retweeted avec vous @avecvou...   franckriester\n",
       "18   0:00 / 1:22 17 36 101 Retweeted Emmanuel Macr...  CZacharopoulou\n",
       "23   0:01 / 4:50 31 172 421 Retweeted Emmanuel Mac...  CZacharopoulou\n",
       "39   0:45 / 2:23 148 443 1,052 Retweeted Adrien Qu...     JLMelenchon\n",
       "24   343 725 2,275 Retweeted Emmanuel Macron @Emma...  CZacharopoulou\n",
       "42   0:01 / 1:55 44 468 1,097 Retweeted Nouvelle U...     JLMelenchon"
      ]
     },
     "execution_count": 30,
     "metadata": {},
     "output_type": "execute_result"
    }
   ],
   "source": [
    "# Cleaning data and making dataframe\n",
    "dataset_df = pd.DataFrame(columns=['tweet', 'author'])\n",
    "\n",
    "for author in dataset.keys():\n",
    "    dataset[author] = re.sub(r'\\s{2,}|\\|', ' ', dataset[author]).split('views')\n",
    "    for tweet in dataset[author]:\n",
    "        dataset_df = dataset_df.append({'tweet': tweet, 'author': author}, ignore_index=True)\n",
    "\n",
    "dataset_df.sample(10) "
   ]
  },
  {
   "cell_type": "code",
   "execution_count": null,
   "metadata": {},
   "outputs": [],
   "source": [
    "#Save it as a pickle\n",
    "dataset_df.to_pickle('dataset_df.pkl')"
   ]
  }
 ],
 "metadata": {
  "interpreter": {
   "hash": "f4fde45515710cbe4f4cf44a8ddef1b298277709bd6c5462499553af68a98f2e"
  },
  "kernelspec": {
   "display_name": "Python 3.9.6 64-bit",
   "language": "python",
   "name": "python3"
  },
  "language_info": {
   "codemirror_mode": {
    "name": "ipython",
    "version": 3
   },
   "file_extension": ".py",
   "mimetype": "text/x-python",
   "name": "python",
   "nbconvert_exporter": "python",
   "pygments_lexer": "ipython3",
   "version": "3.9.6"
  },
  "orig_nbformat": 4
 },
 "nbformat": 4,
 "nbformat_minor": 2
}
