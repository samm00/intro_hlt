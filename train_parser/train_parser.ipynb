{
 "cells": [
  {
   "cell_type": "code",
   "execution_count": 3,
   "metadata": {},
   "outputs": [],
   "source": [
    "import pandas as pd\n",
    "import re"
   ]
  },
  {
   "cell_type": "code",
   "execution_count": 5,
   "metadata": {},
   "outputs": [
    {
     "name": "stdout",
     "output_type": "stream",
     "text": [
      "<class 'pandas.core.frame.DataFrame'>\n",
      "Int64Index: 310 entries, 0 to 323\n",
      "Data columns (total 2 columns):\n",
      " #   Column       Non-Null Count  Dtype \n",
      "---  ------       --------------  ----- \n",
      " 0   Unnamed: 0   310 non-null    object\n",
      " 1   JLMelenchon  310 non-null    object\n",
      "dtypes: object(2)\n",
      "memory usage: 7.3+ KB\n"
     ]
    }
   ],
   "source": [
    "# Upload the .tsv\n",
    "FILEPATH = 'train.tsv'\n",
    "training_df = pd.read_csv(FILEPATH, sep='\\t').dropna()\n",
    "\n",
    "training_df.sample(10)\n",
    "training_df.info()"
   ]
  },
  {
   "cell_type": "code",
   "execution_count": 27,
   "metadata": {},
   "outputs": [
    {
     "name": "stdout",
     "output_type": "stream",
     "text": [
      "SUBJECT: CBeaune\n",
      "ts | En cette journée mondiale du #DonDeSang  , rappelons que la majorité a mis fin à une inégalité \n",
      "SUBJECT: CZacharopoulou\n",
      "                           ·  21h            Excellente discussion avec S\n",
      "E   @IssoufouMhm  , ancien\n",
      "SUBJECT: franckriester\n",
      "                  @      ·  Jun 9            « Il y a besoin d’un pays attractif, où les investissem\n",
      "SUBJECT: JLMelenchon\n",
      "  Retweeted           L'insoumission      @L_insoumission    ·  1h  « Qu'avez-vous ressenti devant c\n",
      "SUBJECT: MinColonna\n",
      "                   @     ·  Jun 10              En #Touraine, avec les candidats de la majorité\n",
      " Mer\n"
     ]
    }
   ],
   "source": [
    "files = ['CBeaune', 'CZacharopoulou', 'franckriester', 'JLMelenchon', 'MinColonna']\n",
    "\n",
    "# For cleaning purposes\n",
    "dataset = {file: '' for file in files}\n",
    "\n",
    "for file in files:\n",
    "    with open(file + '.txt', 'r', encoding='utf-8') as src:\n",
    "        dataset[file] = src.read(-1)\n",
    "        print(\"SUBJECT:\", file)\n",
    "        print(dataset[file][:100])"
   ]
  },
  {
   "cell_type": "code",
   "execution_count": 28,
   "metadata": {},
   "outputs": [
    {
     "ename": "TypeError",
     "evalue": "Can only append a dict if ignore_index=True",
     "output_type": "error",
     "traceback": [
      "\u001b[1;31m---------------------------------------------------------------------------\u001b[0m",
      "\u001b[1;31mTypeError\u001b[0m                                 Traceback (most recent call last)",
      "\u001b[1;32mc:\\Users\\Alejandro Ciuba\\Documents\\Programs\\intro_hlt\\train_parser\\train_parser.ipynb Cell 4'\u001b[0m in \u001b[0;36m<module>\u001b[1;34m\u001b[0m\n\u001b[0;32m      <a href='vscode-notebook-cell:/c%3A/Users/Alejandro%20Ciuba/Documents/Programs/intro_hlt/train_parser/train_parser.ipynb#ch0000004?line=4'>5</a>\u001b[0m     dataset[author] \u001b[39m=\u001b[39m re\u001b[39m.\u001b[39msub(\u001b[39mr\u001b[39m\u001b[39m'\u001b[39m\u001b[39m\\\u001b[39m\u001b[39ms\u001b[39m\u001b[39m{\u001b[39m\u001b[39m2,}|\u001b[39m\u001b[39m\\\u001b[39m\u001b[39m|\u001b[39m\u001b[39m'\u001b[39m, \u001b[39m'\u001b[39m\u001b[39m \u001b[39m\u001b[39m'\u001b[39m, dataset[author])\u001b[39m.\u001b[39msplit(\u001b[39m'\u001b[39m\u001b[39mviews\u001b[39m\u001b[39m'\u001b[39m)\n\u001b[0;32m      <a href='vscode-notebook-cell:/c%3A/Users/Alejandro%20Ciuba/Documents/Programs/intro_hlt/train_parser/train_parser.ipynb#ch0000004?line=5'>6</a>\u001b[0m     \u001b[39mfor\u001b[39;00m tweet \u001b[39min\u001b[39;00m dataset[author]:\n\u001b[1;32m----> <a href='vscode-notebook-cell:/c%3A/Users/Alejandro%20Ciuba/Documents/Programs/intro_hlt/train_parser/train_parser.ipynb#ch0000004?line=6'>7</a>\u001b[0m         dataset_df \u001b[39m=\u001b[39m dataset_df\u001b[39m.\u001b[39;49mappend({\u001b[39m'\u001b[39;49m\u001b[39mtweet\u001b[39;49m\u001b[39m'\u001b[39;49m: tweet, \u001b[39m'\u001b[39;49m\u001b[39mauthor\u001b[39;49m\u001b[39m'\u001b[39;49m: author})\n\u001b[0;32m      <a href='vscode-notebook-cell:/c%3A/Users/Alejandro%20Ciuba/Documents/Programs/intro_hlt/train_parser/train_parser.ipynb#ch0000004?line=8'>9</a>\u001b[0m dataset_df\u001b[39m.\u001b[39msample(\u001b[39m10\u001b[39m)\n",
      "File \u001b[1;32m~\\AppData\\Roaming\\Python\\Python39\\site-packages\\pandas\\core\\frame.py:8927\u001b[0m, in \u001b[0;36mDataFrame.append\u001b[1;34m(self, other, ignore_index, verify_integrity, sort)\u001b[0m\n\u001b[0;32m   <a href='file:///c%3A/Users/Alejandro%20Ciuba/AppData/Roaming/Python/Python39/site-packages/pandas/core/frame.py?line=8924'>8925</a>\u001b[0m \u001b[39mif\u001b[39;00m \u001b[39misinstance\u001b[39m(other, \u001b[39mdict\u001b[39m):\n\u001b[0;32m   <a href='file:///c%3A/Users/Alejandro%20Ciuba/AppData/Roaming/Python/Python39/site-packages/pandas/core/frame.py?line=8925'>8926</a>\u001b[0m     \u001b[39mif\u001b[39;00m \u001b[39mnot\u001b[39;00m ignore_index:\n\u001b[1;32m-> <a href='file:///c%3A/Users/Alejandro%20Ciuba/AppData/Roaming/Python/Python39/site-packages/pandas/core/frame.py?line=8926'>8927</a>\u001b[0m         \u001b[39mraise\u001b[39;00m \u001b[39mTypeError\u001b[39;00m(\u001b[39m\"\u001b[39m\u001b[39mCan only append a dict if ignore_index=True\u001b[39m\u001b[39m\"\u001b[39m)\n\u001b[0;32m   <a href='file:///c%3A/Users/Alejandro%20Ciuba/AppData/Roaming/Python/Python39/site-packages/pandas/core/frame.py?line=8927'>8928</a>\u001b[0m     other \u001b[39m=\u001b[39m Series(other)\n\u001b[0;32m   <a href='file:///c%3A/Users/Alejandro%20Ciuba/AppData/Roaming/Python/Python39/site-packages/pandas/core/frame.py?line=8928'>8929</a>\u001b[0m \u001b[39mif\u001b[39;00m other\u001b[39m.\u001b[39mname \u001b[39mis\u001b[39;00m \u001b[39mNone\u001b[39;00m \u001b[39mand\u001b[39;00m \u001b[39mnot\u001b[39;00m ignore_index:\n",
      "\u001b[1;31mTypeError\u001b[0m: Can only append a dict if ignore_index=True"
     ]
    }
   ],
   "source": [
    "# Cleaning data and making dataframe\n",
    "dataset_df = pd.DataFrame(columns=['tweet', 'author'])\n",
    "\n",
    "for author in dataset.keys():\n",
    "    dataset[author] = re.sub(r'\\s{2,}|\\|', ' ', dataset[author]).split('views')\n",
    "    for tweet in dataset[author]:\n",
    "        dataset_df = dataset_df.append({'tweet': tweet, 'author': author}, ignore_index=True)\n",
    "\n",
    "dataset_df.sample(10) "
   ]
  }
 ],
 "metadata": {
  "interpreter": {
   "hash": "f4fde45515710cbe4f4cf44a8ddef1b298277709bd6c5462499553af68a98f2e"
  },
  "kernelspec": {
   "display_name": "Python 3.9.6 64-bit",
   "language": "python",
   "name": "python3"
  },
  "language_info": {
   "codemirror_mode": {
    "name": "ipython",
    "version": 3
   },
   "file_extension": ".py",
   "mimetype": "text/x-python",
   "name": "python",
   "nbconvert_exporter": "python",
   "pygments_lexer": "ipython3",
   "version": "3.9.6"
  },
  "orig_nbformat": 4
 },
 "nbformat": 4,
 "nbformat_minor": 2
}
